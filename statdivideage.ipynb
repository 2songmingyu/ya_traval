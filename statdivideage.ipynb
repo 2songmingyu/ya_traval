{
 "cells": [
  {
   "cell_type": "code",
   "execution_count": 12,
   "metadata": {},
   "outputs": [
    {
     "name": "stdout",
     "output_type": "stream",
     "text": [
      "관광지_sorted.csv 파일로 저장되었습니다.\n",
      "10대 이하(남) 관광객 수_sorted.csv 파일로 저장되었습니다.\n",
      "10대 이하(여) 관광객 수_sorted.csv 파일로 저장되었습니다.\n",
      "20대 (남) 관광객 수_sorted.csv 파일로 저장되었습니다.\n",
      "20대 (여) 관광객 수_sorted.csv 파일로 저장되었습니다.\n",
      "30대 (남) 관광객 수_sorted.csv 파일로 저장되었습니다.\n",
      "30대 (여) 관광객 수_sorted.csv 파일로 저장되었습니다.\n",
      "40대 (남) 관광객 수_sorted.csv 파일로 저장되었습니다.\n",
      "40대 (여) 관광객 수_sorted.csv 파일로 저장되었습니다.\n",
      "50대 (남) 관광객 수_sorted.csv 파일로 저장되었습니다.\n",
      "50대 (여) 관광객 수_sorted.csv 파일로 저장되었습니다.\n",
      "60대 (남) 관광객 수_sorted.csv 파일로 저장되었습니다.\n",
      "60대 (여) 관광객 수_sorted.csv 파일로 저장되었습니다.\n",
      "70대 이상 (남) 관광객 수_sorted.csv 파일로 저장되었습니다.\n",
      "70대 이상 (여) 관광객 수_sorted.csv 파일로 저장되었습니다.\n"
     ]
    }
   ],
   "source": [
    "import pandas as pd\n",
    "\n",
    "# CSV 파일 경로\n",
    "csv_file = '지역별 관광지별 연령대별 입장객 수/대구광역시.csv'\n",
    "\n",
    "# 특정 컬럼 유지할 컬럼 이름\n",
    "preserve_column = '관광지'\n",
    "\n",
    "# CSV 파일을 데이터프레임으로 로드\n",
    "dataframe = pd.read_csv(csv_file)\n",
    "\n",
    "# 각 컬럼의 값을 기준으로 정렬하는 함수\n",
    "def sort_dataframe_by_column(dataframe, column_name):\n",
    "    sorted_dataframe = dataframe.sort_values(by=column_name, ascending=False)\n",
    "    return sorted_dataframe\n",
    "\n",
    "# 정렬 결과를 저장할 딕셔너리 생성\n",
    "sorted_dataframes = {}\n",
    "\n",
    "# 모든 컬럼에 대해 정렬 적용하기\n",
    "for column in dataframe.columns:\n",
    "    sorted_dataframe = sort_dataframe_by_column(dataframe, column)\n",
    "    sorted_dataframes[column] = sorted_dataframe\n",
    "\n",
    "# 각 정렬 결과를 데이터프레임 형태로 저장\n",
    "for column, sorted_df in sorted_dataframes.items():\n",
    "    sorted_df.to_csv(f\"{column}_sorted.csv\", index=False)\n",
    "    print(f\"{column}_sorted.csv 파일로 저장되었습니다.\")\n",
    "\n",
    "\n",
    "\n",
    "\n",
    "\n",
    "\n",
    "\n"
   ]
  },
  {
   "cell_type": "code",
   "execution_count": null,
   "metadata": {},
   "outputs": [],
   "source": [
    "pd.DataFrame(sorted_dataframe)"
   ]
  },
  {
   "cell_type": "code",
   "execution_count": null,
   "metadata": {},
   "outputs": [],
   "source": []
  }
 ],
 "metadata": {
  "kernelspec": {
   "display_name": "gj_django",
   "language": "python",
   "name": "python3"
  },
  "language_info": {
   "codemirror_mode": {
    "name": "ipython",
    "version": 3
   },
   "file_extension": ".py",
   "mimetype": "text/x-python",
   "name": "python",
   "nbconvert_exporter": "python",
   "pygments_lexer": "ipython3",
   "version": "3.9.16"
  },
  "orig_nbformat": 4
 },
 "nbformat": 4,
 "nbformat_minor": 2
}
