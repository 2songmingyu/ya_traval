{
 "cells": [
  {
   "cell_type": "code",
   "execution_count": 4,
   "metadata": {},
   "outputs": [
    {
     "name": "stdout",
     "output_type": "stream",
     "text": [
      "데이터가 성공적으로 처리되었습니다.\n"
     ]
    }
   ],
   "source": [
    "import pandas as pd\n",
    "import glob\n",
    "import os\n",
    "\n",
    "# 관광지별 입장객 수가 있는 csv 파일의 경로와 결과 파일의 경로\n",
    "input_folder = '데이터 전처리 완료/지역별 관광지별 연령대별 성별 입장객 수/'\n",
    "output_folder = '데이터 전처리 완료/지역별 관광지 연령대별 관광객 수/'\n",
    "\n",
    "# 폴더 내의 모든 CSV 파일 가져오기\n",
    "file_list = glob.glob(input_folder + '*.csv')\n",
    "\n",
    "for file_path in file_list:\n",
    "    # CSV 파일 로드\n",
    "    df_count = pd.read_csv(file_path)\n",
    "\n",
    "    # 열 추가\n",
    "    df_count['10대 이하 관광객 수'] = df_count['10대 이하(남) 관광객 수'] + df_count['10대 이하(여) 관광객 수']\n",
    "    df_count['20대 관광객 수'] = df_count['20대 (남) 관광객 수'] + df_count['20대 (여) 관광객 수']\n",
    "    df_count['30대 관광객 수'] = df_count['30대 (남) 관광객 수'] + df_count['30대 (여) 관광객 수']\n",
    "    df_count['40대 관광객 수'] = df_count['40대 (남) 관광객 수'] + df_count['40대 (여) 관광객 수']\n",
    "    df_count['50대 관광객 수'] = df_count['50대 (남) 관광객 수'] + df_count['50대 (여) 관광객 수']\n",
    "    df_count['60대 관광객 수'] = df_count['60대 (남) 관광객 수'] + df_count['60대 (여) 관광객 수']\n",
    "    df_count['70대 이상 관광객 수'] = df_count['70대 이상 (남) 관광객 수'] + df_count['70대 이상 (여) 관광객 수']\n",
    "\n",
    "    # 필요한 열만 선택하여 결과 데이터프레임 생성\n",
    "    result_df = df_count[['관광지', '10대 이하 관광객 수', '20대 관광객 수', '30대 관광객 수',\n",
    "                          '40대 관광객 수', '50대 관광객 수', '60대 관광객 수', '70대 이상 관광객 수']]\n",
    "\n",
    "    # 결과를 새로운 CSV 파일로 저장\n",
    "    output_file_path = os.path.join(output_folder, os.path.basename(file_path))\n",
    "    result_df.to_csv(output_file_path, index=False)\n",
    "\n",
    "print('데이터가 성공적으로 처리되었습니다.')"
   ]
  },
  {
   "cell_type": "code",
   "execution_count": null,
   "metadata": {},
   "outputs": [],
   "source": []
  }
 ],
 "metadata": {
  "kernelspec": {
   "display_name": "gj_django_kernel",
   "language": "python",
   "name": "gj_django"
  },
  "language_info": {
   "codemirror_mode": {
    "name": "ipython",
    "version": 3
   },
   "file_extension": ".py",
   "mimetype": "text/x-python",
   "name": "python",
   "nbconvert_exporter": "python",
   "pygments_lexer": "ipython3",
   "version": "3.9.16"
  },
  "orig_nbformat": 4
 },
 "nbformat": 4,
 "nbformat_minor": 2
}
