{
 "cells": [
  {
   "cell_type": "code",
   "execution_count": 19,
   "metadata": {},
   "outputs": [],
   "source": [
    "import pandas as pd\n",
    "import glob\n",
    "\n",
    "# 통합할 CSV 파일들의 경로를 지정하여 파일 리스트 생성\n",
    "file_paths = glob.glob('제주도/*.csv')\n",
    "\n",
    "# 파일 리스트를 순회하며 데이터프레임 생성 및 통합\n",
    "df_list = []\n",
    "for file_path in file_paths:\n",
    "    df = pd.read_csv(file_path, encoding='cp949')\n",
    "    df_list.append(df)\n",
    "\n",
    "# 데이터프레임들을 하나로 통합\n",
    "merged_df = pd.concat(df_list)\n",
    "\n",
    "# 통합된 데이터프레임을 CSV 파일로 저장\n",
    "merged_df.to_csv('제주도.csv', index=False)\n"
   ]
  },
  {
   "cell_type": "code",
   "execution_count": null,
   "metadata": {},
   "outputs": [],
   "source": []
  }
 ],
 "metadata": {
  "kernelspec": {
   "display_name": "gj_django_kernel",
   "language": "python",
   "name": "gj_django"
  },
  "language_info": {
   "codemirror_mode": {
    "name": "ipython",
    "version": 3
   },
   "file_extension": ".py",
   "mimetype": "text/x-python",
   "name": "python",
   "nbconvert_exporter": "python",
   "pygments_lexer": "ipython3",
   "version": "3.9.16"
  },
  "orig_nbformat": 4
 },
 "nbformat": 4,
 "nbformat_minor": 2
}
