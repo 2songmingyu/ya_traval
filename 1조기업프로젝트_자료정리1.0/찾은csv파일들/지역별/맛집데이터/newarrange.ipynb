{
 "cells": [
  {
   "cell_type": "code",
   "execution_count": 19,
   "metadata": {},
   "outputs": [
    {
     "name": "stdout",
     "output_type": "stream",
     "text": [
      "Processed file: 강화군.csv\n",
      "Processed file: 계양구.csv\n",
      "Processed file: 남동구.csv\n",
      "Processed file: 동구.csv\n",
      "Processed file: 미추홀구.csv\n",
      "Processed file: 부평구.csv\n",
      "Processed file: 서구.csv\n",
      "Processed file: 연수구.csv\n",
      "Processed file: 웅진군.csv\n",
      "Processed file: 중구.csv\n"
     ]
    }
   ],
   "source": [
    "import csv\n",
    "import os\n",
    "import tempfile\n",
    "import shutil\n",
    "\n",
    "\n",
    "def rank_by_local_searches(folder_path):\n",
    "    for filename in os.listdir(folder_path):\n",
    "        if filename.endswith('.csv'):\n",
    "            file_path = os.path.join(folder_path, filename)\n",
    "            temp_file_path = os.path.join(tempfile.gettempdir(), 'temp.csv')\n",
    "            rows = []\n",
    "            \n",
    "            encoding = 'utf-8'  # 기본 인코딩은 utf-8로 설정\n",
    "            \n",
    "            try:\n",
    "                with open(file_path, 'r', encoding=encoding) as csv_file, \\\n",
    "                     open(temp_file_path, 'w', newline='', encoding=encoding) as temp_file:\n",
    "                    csv_reader = csv.reader(csv_file)\n",
    "                    csv_writer = csv.writer(temp_file)\n",
    "                    \n",
    "                    header = next(csv_reader)  # 헤더를 읽어옴\n",
    "                    csv_writer.writerow(header)  # 헤더를 임시 파일에 쓰기\n",
    "                    \n",
    "                    for row in csv_reader:\n",
    "                        rows.append(row)  # 행을 리스트에 추가\n",
    "                    \n",
    "                    sorted_rows = sorted(rows, key=lambda r: int(r[1]) if r[1].isdigit() else float('inf'), reverse=True)  # '현지인 검색 수' 컬럼을 기준으로 내림차순 정렬\n",
    "                    \n",
    "                    for i, row in enumerate(sorted_rows, start=1):\n",
    "                        row = row[:0] + row[1:]  # 기존의 순위 컬럼을 제거\n",
    "                        row.insert(0, i)  # '순위' 컬럼을 추가하여 순위 매김\n",
    "                        csv_writer.writerow(row)  # 정렬된 행을 임시 파일에 쓰기\n",
    "            \n",
    "            except UnicodeDecodeError:\n",
    "                encoding = 'cp949'  # cp949 인코딩으로 다시 시도\n",
    "                \n",
    "                with open(file_path, 'r', encoding=encoding) as csv_file, \\\n",
    "                     open(temp_file_path, 'w', newline='', encoding=encoding) as temp_file:\n",
    "                    csv_reader = csv.reader(csv_file)\n",
    "                    csv_writer = csv.writer(temp_file)\n",
    "                    \n",
    "                    header = next(csv_reader)  # 헤더를 읽어옴\n",
    "                    csv_writer.writerow(header)  # 헤더를 임시 파일에 쓰기\n",
    "                    \n",
    "                    for row in csv_reader:\n",
    "                        rows.append(row)  # 행을 리스트에 추가\n",
    "                    \n",
    "                    sorted_rows = sorted(rows, key=lambda r: int(r[1]) if r[1].isdigit() else float('inf'), reverse=True)  # '현지인 검색 수' 컬럼을 기준으로 내림차순 정렬\n",
    "                    \n",
    "                    for i, row in enumerate(sorted_rows, start=1):\n",
    "                        row = row[:0] + row[1:]  # 기존의 순위 컬럼을 제거\n",
    "                        row.insert(0, i)  # '순위' 컬럼을 추가하여 순위 매김\n",
    "                        csv_writer.writerow(row)  # 정렬된 행을 임시 파일에 쓰기\n",
    "            \n",
    "            shutil.move(temp_file_path, file_path)  # 임시 파일을 원본 파일로 이동\n",
    "            \n",
    "            print(f\"Processed file: {filename}\")\n",
    "\n",
    "folder_path = 'C:/ya_traval/1조기업프로젝트_자료정리1.0/찾은csv파일들/지역별/맛집데이터/인천'\n",
    "\n",
    "rank_by_local_searches(folder_path)\n",
    "\n",
    "\n",
    "\n"
   ]
  },
  {
   "cell_type": "markdown",
   "metadata": {},
   "source": []
  },
  {
   "cell_type": "code",
   "execution_count": null,
   "metadata": {},
   "outputs": [],
   "source": []
  }
 ],
 "metadata": {
  "kernelspec": {
   "display_name": "gj_django_kernel",
   "language": "python",
   "name": "gj_django"
  },
  "language_info": {
   "codemirror_mode": {
    "name": "ipython",
    "version": 3
   },
   "file_extension": ".py",
   "mimetype": "text/x-python",
   "name": "python",
   "nbconvert_exporter": "python",
   "pygments_lexer": "ipython3",
   "version": "3.9.16"
  },
  "orig_nbformat": 4
 },
 "nbformat": 4,
 "nbformat_minor": 2
}
