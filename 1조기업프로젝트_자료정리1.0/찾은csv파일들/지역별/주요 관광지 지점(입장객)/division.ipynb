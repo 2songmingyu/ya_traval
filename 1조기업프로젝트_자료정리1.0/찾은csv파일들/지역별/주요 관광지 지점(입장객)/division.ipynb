{
 "cells": [
  {
   "cell_type": "code",
   "execution_count": 7,
   "metadata": {},
   "outputs": [],
   "source": [
    "import pandas as pd\n",
    "\n",
    "# 원본 엑셀 파일 경로\n",
    "path = '주요관광지점 입장객(서울).xls'\n",
    "\n",
    "# 군구 컬럼 이름\n",
    "countycol = '군구'\n",
    "\n",
    "# 내/외국인 칼럼 이름\n",
    "nationalitycol = '내/외국인'\n",
    "\n",
    "# 원본 엑셀 파일 로드\n",
    "df_county = pd.read_excel(path)\n",
    "\n",
    "# 군구별로 엑셀 파일 분할\n",
    "for 군구 in df_county[countycol].unique():\n",
    "    # 새로운 데이터프레임 생성\n",
    "    df_split = df_county[df_county[countycol] == 군구]\n",
    "    \n",
    "    # 내/외국인 칼럼에서 합계 행만 남기기\n",
    "    df_split = df_split[df_split[nationalitycol] == '합계']\n",
    "    \n",
    "    군구_파일_이름 = f'{군구}.xlsx'\n",
    "    df_split.to_excel(군구_파일_이름, index=False)\n",
    "\n"
   ]
  },
  {
   "cell_type": "code",
   "execution_count": null,
   "metadata": {},
   "outputs": [],
   "source": []
  }
 ],
 "metadata": {
  "kernelspec": {
   "display_name": "gj_django_kernel",
   "language": "python",
   "name": "gj_django"
  },
  "language_info": {
   "codemirror_mode": {
    "name": "ipython",
    "version": 3
   },
   "file_extension": ".py",
   "mimetype": "text/x-python",
   "name": "python",
   "nbconvert_exporter": "python",
   "pygments_lexer": "ipython3",
   "version": "3.9.16"
  },
  "orig_nbformat": 4
 },
 "nbformat": 4,
 "nbformat_minor": 2
}
